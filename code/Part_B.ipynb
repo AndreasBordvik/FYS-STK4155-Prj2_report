{
 "cells": [
  {
   "cell_type": "code",
   "execution_count": 1,
   "metadata": {},
   "outputs": [
    {
     "name": "stdout",
     "output_type": "stream",
     "text": [
      "Root directory: c:\\Users\\andre\\Dropbox\\FYS-STK4155_projects\\FYS-STK4155 - Project2\\FYS-STK4155-Prj2_report\\code\n"
     ]
    }
   ],
   "source": [
    "import numpy as np\n",
    "import pandas as pd\n",
    "from imageio import imread\n",
    "import matplotlib.pyplot as plt\n",
    "from matplotlib import cm\n",
    "import seaborn as sns\n",
    "import os\n",
    "from common import *\n",
    "from models import own_LinRegGD\n",
    "#import cv2\n",
    "#import tensorflow as tf\n",
    "from models import NeuralNetwork, Layer, Fixed_layer, binary_classifier, relu\n",
    "\n",
    "print(f\"Root directory: {os.getcwd()}\")\n",
    "plt.rcParams.update({\n",
    "    \"text.usetex\": True,\n",
    "    \"font.family\": \"serif\",\n",
    "    \"font.serif\": [\"Palatino\"],\n",
    "    \"font.size\": 10,\n",
    "})\n",
    "\n",
    "#%matplotlib"
   ]
  },
  {
   "cell_type": "markdown",
   "metadata": {},
   "source": [
    "# XOR classification\n",
    "The following code checks that a Fixed neural net is able to correctly classify the XOR problem"
   ]
  },
  {
   "cell_type": "code",
   "execution_count": 2,
   "metadata": {},
   "outputs": [
    {
     "name": "stdout",
     "output_type": "stream",
     "text": [
      "y_hat: [1 1 0 0]\n"
     ]
    }
   ],
   "source": [
    "np.random.seed(4155)\n",
    "X = np.array([[1, 0],\n",
    "              [0, 1],\n",
    "              [1, 1],\n",
    "              [0, 0]])\n",
    "\n",
    "hidden1 = Fixed_layer(nbf_inputs=2, nbf_outputs=2, weights=np.array([[1,1],[1,1]]), bias=np.array([-1.5, -0.5]), activation_function=binary_classifier)\n",
    "output = Fixed_layer(nbf_inputs=2, nbf_outputs=1, weights=np.array([-1,1]), bias=np.array([-0.5]), activation_function=binary_classifier)\n",
    "\n",
    "model = NeuralNetwork()\n",
    "model.add_layer(hidden1)\n",
    "model.add_layer(output)\n",
    "\n",
    "y_hat = model.predict(X)\n",
    "print(f\"y_hat: {y_hat}\")"
   ]
  },
  {
   "cell_type": "code",
   "execution_count": 3,
   "metadata": {},
   "outputs": [
    {
     "name": "stdout",
     "output_type": "stream",
     "text": [
      "a_out.shape: (3, 1)\n",
      "t.shape: (3, 1)\n",
      "output_layer.grad_activation(a_out).shape: (3, 1)\n",
      "current: hidden1\n",
      "right: output\n",
      "current.weights.T.shape (2, 2)\n",
      "right.deltas.T.shape (1, 1)\n",
      "right.deltas.shape (1, 1)\n",
      "backprop is done\n",
      "Updating the weights\n",
      "\n",
      "hidden weights before update\n",
      "[[ 0.25437443  0.09589081]\n",
      " [ 0.48668483 -2.2087789 ]] \n",
      "\n",
      "\n",
      "right.weights before:\n",
      "(2, 1)\n",
      "[[-0.90144138]\n",
      " [ 0.4403852 ]]\n",
      "\n",
      "Current is:  Layer name: hidden1\n",
      "\n",
      "Right is:  Layer name: output\n",
      "\n",
      "right.deltas.shape: (1, 1)\n",
      "\n",
      "current.a.T.shape: (2, 1)\n",
      "\n",
      "right.weights updated:\n",
      "[[-0.9014306 ]\n",
      " [ 0.44038932]]\n",
      "\n",
      "hidden weights after update\n",
      "[[ 0.25437176  0.09589198]\n",
      " [ 0.48668215 -2.20877773]] \n",
      "\n",
      "[[-0.01498142]]\n",
      "[[ 0.00267819 -0.00117127]]\n"
     ]
    }
   ],
   "source": [
    "np.random.seed(4155)\n",
    "X = np.array([[1, 0],\n",
    "              [1, 1],\n",
    "              [0, 0]])\n",
    "\n",
    "X_test = np.array([0, 1])\n",
    "t = np.array([1,0,0])\n",
    "\n",
    "#hidden1 = Layer(nbf_inputs=2, nbf_outputs=4, activation_function=relu)\n",
    "#hidden2 = Layer(nbf_inputs=hidden1.output, nbf_outputs=16)\n",
    "hidden1 = Layer(nbf_inputs=2, nbf_outputs=2, activation_function=relu, name=\"hidden1\")\n",
    "output = Layer(nbf_inputs=hidden1.output, nbf_outputs=1, name=\"output\")\n",
    "\n",
    "model2 = NeuralNetwork()\n",
    "model2.add_layer(hidden1)\n",
    "model2.add_layer(output)\n",
    "\n",
    "model2.fit(X, t)\n",
    "\n",
    "print(model2.sequential_layers[-1].deltas)\n",
    "print(model2.sequential_layers[-2].deltas)\n",
    "#y_hat = model2.predict(X)\n",
    "#model2.backward_prop(None, None)"
   ]
  },
  {
   "cell_type": "code",
   "execution_count": null,
   "metadata": {},
   "outputs": [],
   "source": []
  }
 ],
 "metadata": {
  "interpreter": {
   "hash": "4e1d9a8909477db77738c33245c29c7265277ef753467dede8cf3f814cde494e"
  },
  "kernelspec": {
   "display_name": "Python 3.9.7 64-bit",
   "name": "python3"
  },
  "language_info": {
   "codemirror_mode": {
    "name": "ipython",
    "version": 3
   },
   "file_extension": ".py",
   "mimetype": "text/x-python",
   "name": "python",
   "nbconvert_exporter": "python",
   "pygments_lexer": "ipython3",
   "version": "3.9.7"
  },
  "orig_nbformat": 4
 },
 "nbformat": 4,
 "nbformat_minor": 2
}
