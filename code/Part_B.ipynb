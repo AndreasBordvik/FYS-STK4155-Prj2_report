{
 "cells": [
  {
   "cell_type": "code",
   "execution_count": 1,
   "metadata": {},
   "outputs": [
    {
     "name": "stdout",
     "output_type": "stream",
     "text": [
      "Root directory: c:\\Users\\andre\\Dropbox\\FYS-STK4155_projects\\FYS-STK4155 - Project2\\FYS-STK4155-Prj2_report\\code\n"
     ]
    }
   ],
   "source": [
    "import numpy as np\n",
    "import pandas as pd\n",
    "from imageio import imread\n",
    "import matplotlib.pyplot as plt\n",
    "from matplotlib import cm\n",
    "import seaborn as sns\n",
    "import os\n",
    "from common import *\n",
    "from models import own_LinRegGD\n",
    "import cv2\n",
    "import tensorflow as tf\n",
    "\n",
    "print(f\"Root directory: {os.getcwd()}\")\n",
    "plt.rcParams.update({\n",
    "    \"text.usetex\": True,\n",
    "    \"font.family\": \"serif\",\n",
    "    \"font.serif\": [\"Palatino\"],\n",
    "    \"font.size\": 10,\n",
    "})\n",
    "\n",
    "#%matplotlib"
   ]
  },
  {
   "cell_type": "code",
   "execution_count": 2,
   "metadata": {},
   "outputs": [],
   "source": [
    "def relu(x):\n",
    "    return np.maximum(0,x)"
   ]
  },
  {
   "cell_type": "code",
   "execution_count": 3,
   "metadata": {},
   "outputs": [],
   "source": [
    "class Layer:\n",
    "    def __init__(self, nbf_inputs : int, nbf_outputs : int, activation_function=lambda x: x):\n",
    "        self.input = nbf_inputs\n",
    "        self.output = nbf_outputs\n",
    "        self.activation = activation_function\n",
    "        self.weights = np.random.rand(nbf_inputs, nbf_outputs) # TODO: include possible negative weight initialization\n",
    "        self.bias = np.random.rand(1, nbf_outputs) # TODO: include possible negative weight initialization\n",
    "        self.accumulated_gradient = np.zeros_like(self.weights)\n",
    "\n",
    "    def forward_prop(self, input : np.ndarray) -> np.ndarray:\n",
    "        z = (input @ self.weights) + self.bias\n",
    "        a = self.activation(z)\n",
    "        return a, self.weights, self.bias\n",
    "\n",
    "    def backward_prop(self, X, y):\n",
    "        h = self.forward_prop(X)\n",
    "        error = y - y_hat \n",
    "\n",
    "        # TODO: DO backprop\n",
    "\n",
    "\n"
   ]
  },
  {
   "cell_type": "code",
   "execution_count": 6,
   "metadata": {},
   "outputs": [
    {
     "name": "stdout",
     "output_type": "stream",
     "text": [
      "[[0.81341245 0.91175391]\n",
      " [0.81501125 0.90847179]] \n",
      "\n",
      "[[0.58902609 0.99301661]] \n",
      "\n",
      "[[-0.22438636  0.08126271]\n",
      " [ 1.40243854  1.90477052]]\n"
     ]
    }
   ],
   "source": [
    "np.random.seed(4155)\n",
    "X = np.array([[-1, 0],\n",
    "              [1, 0 ]])\n",
    "hidden1 = Layer(nbf_inputs=2, nbf_outputs=2)#, activation_function=relu)\n",
    "\n",
    "y_hat, w, b = hidden1.forward_prop(X)\n",
    "print(w,\"\\n\")\n",
    "print(b,\"\\n\")\n",
    "print(y_hat)\n"
   ]
  },
  {
   "cell_type": "code",
   "execution_count": null,
   "metadata": {},
   "outputs": [],
   "source": []
  },
  {
   "cell_type": "code",
   "execution_count": null,
   "metadata": {},
   "outputs": [],
   "source": []
  }
 ],
 "metadata": {
  "interpreter": {
   "hash": "4100b45d1ec7c24b8fe1569d39871ffb9fcc213dcc50046fc68fe247fbf6e84f"
  },
  "kernelspec": {
   "display_name": "Python 3.8.11 64-bit ('pytorch1': conda)",
   "name": "python3"
  },
  "language_info": {
   "codemirror_mode": {
    "name": "ipython",
    "version": 3
   },
   "file_extension": ".py",
   "mimetype": "text/x-python",
   "name": "python",
   "nbconvert_exporter": "python",
   "pygments_lexer": "ipython3",
   "version": "3.8.11"
  },
  "orig_nbformat": 4
 },
 "nbformat": 4,
 "nbformat_minor": 2
}
