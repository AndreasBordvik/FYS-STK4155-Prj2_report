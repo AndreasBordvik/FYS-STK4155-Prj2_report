{
 "cells": [
  {
   "cell_type": "code",
   "execution_count": 1,
   "metadata": {},
   "outputs": [
    {
     "name": "stdout",
     "output_type": "stream",
     "text": [
      "Root directory: /home/arefrode/uio/fys-stk4155/projects/FYS-STK4155-Prj2_report/code\n"
     ]
    }
   ],
   "source": [
    "import numpy as np\n",
    "import pandas as pd\n",
    "from imageio import imread\n",
    "import matplotlib.pyplot as plt\n",
    "from matplotlib import cm\n",
    "import seaborn as sns\n",
    "import os\n",
    "from common import *\n",
    "from models import own_LinRegGD\n",
    "import cv2\n",
    "#import tensorflow as tf\n",
    "from models import NeuralNetwork, Layer, Fixed_layer, binary_classifier, relu\n",
    "\n",
    "print(f\"Root directory: {os.getcwd()}\")\n",
    "plt.rcParams.update({\n",
    "    \"text.usetex\": True,\n",
    "    \"font.family\": \"serif\",\n",
    "    \"font.serif\": [\"Palatino\"],\n",
    "    \"font.size\": 10,\n",
    "})\n",
    "\n",
    "#%matplotlib"
   ]
  },
  {
   "cell_type": "markdown",
   "metadata": {},
   "source": [
    "# XOR classification\n",
    "The following code checks that a Fixed neural net is able to correctly classify the XOR problem"
   ]
  },
  {
   "cell_type": "code",
   "execution_count": 2,
   "metadata": {},
   "outputs": [
    {
     "name": "stdout",
     "output_type": "stream",
     "text": [
      "[[1 0]\n",
      " [0 1]\n",
      " [1 1]\n",
      " [0 0]] \n",
      "\n",
      "[[1 1]\n",
      " [1 1]] \n",
      "\n",
      "[-1.5 -0.5] \n",
      "\n",
      "[[0 1]\n",
      " [0 1]\n",
      " [1 1]\n",
      " [0 0]] \n",
      "\n",
      "[-1  1] \n",
      "\n",
      "[-0.5] \n",
      "\n",
      "y_hat: [1 1 0 0]\n"
     ]
    }
   ],
   "source": [
    "np.random.seed(4155)\n",
    "X = np.array([[1, 0],\n",
    "              [0, 1],\n",
    "              [1, 1],\n",
    "              [0, 0]])\n",
    "\n",
    "hidden1 = Fixed_layer(nbf_inputs=2, nbf_outputs=2, weights=np.array([[1,1],[1,1]]), bias=np.array([-1.5, -0.5]), activation_function=binary_classifier)\n",
    "output = Fixed_layer(nbf_inputs=2, nbf_outputs=1, weights=np.array([-1,1]), bias=np.array([-0.5]), activation_function=binary_classifier)\n",
    "\n",
    "model = NeuralNetwork()\n",
    "model.add_layer(hidden1)\n",
    "model.add_layer(output)\n",
    "\n",
    "y_hat = model.predict(X)\n",
    "print(f\"y_hat: {y_hat}\")"
   ]
  },
  {
   "cell_type": "code",
   "execution_count": 3,
   "metadata": {},
   "outputs": [
    {
     "name": "stdout",
     "output_type": "stream",
     "text": [
      "[[-1  0]\n",
      " [ 1  0]] \n",
      "\n",
      "[[0.31341245]\n",
      " [0.41175391]] \n",
      "\n",
      "[[0.31501125]] \n",
      "\n",
      "[[0.0015988]\n",
      " [0.6284237]]\n"
     ]
    }
   ],
   "source": [
    "np.random.seed(4155)\n",
    "X = np.array([[-1, 0],\n",
    "              [1, 0 ]])\n",
    "hidden1 = Layer(nbf_inputs=2, nbf_outputs=1, activation_function=relu)\n",
    "\n",
    "model2 = NeuralNetwork()\n",
    "model2.add_layer(hidden1)\n",
    "y_hat = model2.predict(X)\n",
    "print(y_hat)"
   ]
  },
  {
   "cell_type": "code",
   "execution_count": null,
   "metadata": {},
   "outputs": [],
   "source": []
  }
 ],
 "metadata": {
  "interpreter": {
   "hash": "916dbcbb3f70747c44a77c7bcd40155683ae19c65e1c03b4aa3499c5328201f1"
  },
  "kernelspec": {
   "display_name": "Python 3.6.8 64-bit",
   "name": "python3"
  },
  "language_info": {
   "codemirror_mode": {
    "name": "ipython",
    "version": 3
   },
   "file_extension": ".py",
   "mimetype": "text/x-python",
   "name": "python",
   "nbconvert_exporter": "python",
   "pygments_lexer": "ipython3",
   "version": "3.6.8"
  },
  "orig_nbformat": 4
 },
 "nbformat": 4,
 "nbformat_minor": 2
}
