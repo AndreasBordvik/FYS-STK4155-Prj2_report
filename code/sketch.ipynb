{
 "cells": [
  {
   "cell_type": "code",
   "execution_count": 1,
   "metadata": {},
   "outputs": [],
   "source": [
    "from sklearn.model_selection import train_test_split\n",
    "from common import standard_scaling\n",
    "from sklearn.linear_model import SGDRegressor\n",
    "from tqdm import tqdm\n",
    "import numpy as np"
   ]
  },
  {
   "cell_type": "code",
   "execution_count": 40,
   "metadata": {},
   "outputs": [],
   "source": [
    "def own_sgd(X_train, t_train, theta, n_epoch, M):\n",
    "    m = int(X_train.shape[0]/M) #number of minibatches\n",
    "    print(f\"Number og minibatches: {m}\")\n",
    "    for epoch in tqdm(range(n_epochs)):\n",
    "        indices = np.arange(X_train.shape[0])\n",
    "        drawn = []\n",
    "        for i in range(m):\n",
    "            #batch = np.random.randint(m)\n",
    "            idx = np.random.choice(np.delete(indices, drawn), M, replace=False)\n",
    "            drawn.append(idx)\n",
    "            #print(batch)\n",
    "            \n",
    "            xi = X_train[idx]\n",
    "            #print(f\"xi: {xi}\")\n",
    "            yi = t_train[idx]\n",
    "            gradients = 2.0* xi.T @ ((xi @ theta)-yi)\n",
    "            eta = learning_schedule(epoch*m+i)\n",
    "\n",
    "            theta = theta - eta*gradients\n",
    "        \n",
    "        if np.empty(indices) == False:\n",
    "            # Use the remaining datapoints, which is less than M, as final sample to use all the datapints\n",
    "            \n",
    "    print(f\"theta from own SGD: {theta.ravel()}\")\n",
    "\n",
    "def learning_schedule(t):\n",
    "    return t0/(t+t1)"
   ]
  },
  {
   "cell_type": "code",
   "execution_count": 42,
   "metadata": {},
   "outputs": [
    {
     "name": "stdout",
     "output_type": "stream",
     "text": [
      "Number og minibatches: 133\n"
     ]
    },
    {
     "name": "stderr",
     "output_type": "stream",
     "text": [
      " 12%|█▏        | 6/50 [00:00<00:00, 56.84it/s]"
     ]
    },
    {
     "name": "stdout",
     "output_type": "stream",
     "text": [
      "[ 98 353]\n",
      "[398 465]\n",
      "[484 570]\n",
      "[272 390]\n",
      "[539 552]\n",
      "[415 647]\n",
      "[388 615]\n",
      "[759 795]\n",
      "[ 42 616]\n",
      "[ 52 128]\n"
     ]
    },
    {
     "name": "stderr",
     "output_type": "stream",
     "text": [
      " 34%|███▍      | 17/50 [00:00<00:00, 46.80it/s]"
     ]
    },
    {
     "name": "stdout",
     "output_type": "stream",
     "text": [
      "[327 495]\n",
      "[ 38 192]\n",
      "[293 322]\n",
      "[322 338]\n",
      "[157 486]\n",
      "[124 700]\n",
      "[ 88 214]\n",
      "[374 428]\n",
      "[123 268]\n",
      "[ 37 762]\n"
     ]
    },
    {
     "name": "stderr",
     "output_type": "stream",
     "text": [
      " 56%|█████▌    | 28/50 [00:00<00:00, 51.52it/s]"
     ]
    },
    {
     "name": "stdout",
     "output_type": "stream",
     "text": [
      "[671 765]\n",
      "[101 130]\n",
      "[490 585]\n",
      "[107 417]\n",
      "[247 276]\n",
      "[107 605]\n",
      "[401 669]\n",
      "[146 587]\n",
      "[218 500]\n",
      "[246 649]\n",
      "[299 592]\n",
      "[61 80]\n",
      "[162 789]\n"
     ]
    },
    {
     "name": "stderr",
     "output_type": "stream",
     "text": [
      " 82%|████████▏ | 41/50 [00:00<00:00, 54.51it/s]"
     ]
    },
    {
     "name": "stdout",
     "output_type": "stream",
     "text": [
      "[314 470]\n",
      "[ 68 192]\n",
      "[ 58 481]\n",
      "[ 18 621]\n",
      "[596 764]\n",
      "[123 607]\n",
      "[243 273]\n",
      "[502 504]\n",
      "[142 592]\n",
      "[269 743]\n",
      "[624 710]\n",
      "[210 666]\n"
     ]
    },
    {
     "name": "stderr",
     "output_type": "stream",
     "text": [
      "100%|██████████| 50/50 [00:00<00:00, 53.28it/s]"
     ]
    },
    {
     "name": "stdout",
     "output_type": "stream",
     "text": [
      "[215 439]\n",
      "[ 56 416]\n",
      "[ 76 171]\n",
      "[502 763]\n",
      "[ 33 407]\n",
      "theta from own SGD: [0.87018623]\n",
      "sgdreg from scikit: [-0.00746645], [0.84059769]\n"
     ]
    },
    {
     "name": "stderr",
     "output_type": "stream",
     "text": [
      "\n"
     ]
    }
   ],
   "source": [
    "#np.random.seed(4155)\n",
    "\n",
    "n = 1000\n",
    "x = 2*np.random.rand(n,1)\n",
    "t = 4+3*x+np.random.randn(n,1)\n",
    "\n",
    "X = np.c_[np.ones((n,1)), x]\n",
    "X = X[:,1:]\n",
    "\n",
    "n_epochs = 1000\n",
    "\n",
    "X_train, X_test, t_train, t_test = train_test_split(X, t, test_size=0.2, shuffle=True)\n",
    "X_train, X_test = standard_scaling(X_train, X_test)\n",
    "t_train, t_test = standard_scaling(t_train, t_test)\n",
    "\n",
    "_,features_X = X_train.shape \n",
    "theta = np.random.randn(features_X,1)\n",
    "eta = 1\n",
    "\n",
    "n_epochs = 50\n",
    "M = 6   #size of each minibatch\n",
    "\n",
    "#print(f\"number of batches: {m}\")\n",
    "t0, t1 = 5, 50\n",
    "\n",
    "own_sgd(X_train, t_train, theta, n_epochs, M)\n",
    "\n",
    "sgdreg = SGDRegressor(max_iter = 50, penalty=None, eta0=0.1)\n",
    "sgdreg.fit(X_train,t_train.ravel())\n",
    "print(f\"sgdreg from scikit: {sgdreg.intercept_}, {sgdreg.coef_}\")"
   ]
  },
  {
   "cell_type": "code",
   "execution_count": null,
   "metadata": {},
   "outputs": [],
   "source": [
    "# Sketch of SGd based on code imported from the lecture week40 thursday\n",
    "\n",
    "# Importing various packages\n",
    "from math import exp, sqrt\n",
    "from random import random, seed\n",
    "import numpy as np\n",
    "import matplotlib.pyplot as plt\n",
    "from sklearn.linear_model import SGDRegressor\n",
    "\n",
    "n = 1000\n",
    "x = 2*np.random.rand(n,1)\n",
    "y = 4+3*x+np.random.randn(n,1)\n",
    "\n",
    "n_epochs = 1000\n",
    "\n",
    "X = np.c_[np.ones((n,1)), x]\n",
    "theta_linreg = np.linalg.inv(X.T @ X) @ (X.T @ y)\n",
    "print(\"Own inversion\")\n",
    "print(theta_linreg)\n",
    "sgdreg = SGDRegressor(max_iter = n_epochs, penalty=None, eta0=0.1)\n",
    "sgdreg.fit(x,y.ravel())\n",
    "print(\"sgdreg from scikit\")\n",
    "print(sgdreg.intercept_, sgdreg.coef_)\n",
    "\n",
    "\n",
    "theta = np.random.randn(2,1)\n",
    "eta = 0.1\n",
    "Niterations = 1000\n",
    "\n",
    "\n",
    "for iter in range(Niterations):\n",
    "    gradients = 2.0/n*X.T @ ((X @ theta)-y)\n",
    "    theta -= eta*gradients\n",
    "print(\"theta from own gd\")\n",
    "print(theta)\n",
    "\n",
    "xnew = np.array([[0],[2]])\n",
    "Xnew = np.c_[np.ones((2,1)), xnew]\n",
    "ypredict = Xnew.dot(theta)\n",
    "ypredict2 = Xnew.dot(theta_linreg)\n",
    "\n",
    "\n",
    "\n",
    "M = 5   #size of each minibatch\n",
    "m = int(n/M) #number of minibatches\n",
    "t0, t1 = M, n_epochs\n",
    "def learning_schedule(t):\n",
    "    return t0/(t+t1)\n",
    "\n",
    "theta = np.random.randn(2,1)\n",
    "\n",
    "for epoch in range(n_epochs):\n",
    "    for i in range(m):\n",
    "        random_index = np.random.randint(m)\n",
    "        xi = X[random_index:random_index+1]\n",
    "        yi = y[random_index:random_index+1]\n",
    "        gradients = 2.0* xi.T @ ((xi @ theta)-yi)\n",
    "        eta = learning_schedule(epoch*m+i)\n",
    "        theta = theta - eta*gradients\n",
    "print(\"theta from own sdg\")\n",
    "print(theta)\n",
    "\n",
    "ypredict3 = Xnew.dot(theta)\n",
    "\n",
    "plt.plot(x, y ,'ko', alpha=0.2)\n",
    "plt.plot(xnew, ypredict, \"m-\", label=\"Theta from GD\")\n",
    "plt.plot(xnew, ypredict2, \"b-\", label=\"Theta from Linreg\")\n",
    "plt.plot(xnew, ypredict3, \"c-\", label=\"Theta from SGD\")\n",
    "plt.axis([0,2.0,0, 15.0])\n",
    "plt.xlabel(r'$x$')\n",
    "plt.ylabel(r'$y$')\n",
    "plt.title(r'Random numbers ')\n",
    "plt.legend()\n",
    "plt.show()\n"
   ]
  }
 ],
 "metadata": {
  "interpreter": {
   "hash": "e7370f93d1d0cde622a1f8e1c04877d8463912d04d973331ad4851f04de6915a"
  },
  "kernelspec": {
   "display_name": "Python 3.9.7 64-bit",
   "name": "python3"
  },
  "language_info": {
   "codemirror_mode": {
    "name": "ipython",
    "version": 3
   },
   "file_extension": ".py",
   "mimetype": "text/x-python",
   "name": "python",
   "nbconvert_exporter": "python",
   "pygments_lexer": "ipython3",
   "version": "3.9.7"
  },
  "orig_nbformat": 4
 },
 "nbformat": 4,
 "nbformat_minor": 2
}
