{
 "cells": [
  {
   "cell_type": "markdown",
   "metadata": {},
   "source": [
    "### Compare results against a similar code using pytorch:"
   ]
  },
  {
   "cell_type": "code",
   "execution_count": 1,
   "metadata": {},
   "outputs": [],
   "source": [
    "import os\n",
    "import torch\n",
    "from torch import nn\n",
    "import torch.optim as optim\n",
    "import torch.utils.data as data_utils\n",
    "\n",
    "import numpy as np \n",
    "from sklearn.datasets import load_breast_cancer\n",
    "from sklearn.model_selection import train_test_split\n",
    "import matplotlib.pyplot as plt\n",
    "from sklearn.preprocessing import StandardScaler\n",
    "\n",
    "cancer = load_breast_cancer()\n",
    "\n",
    "X_train, X_test, y_train, y_test = train_test_split(cancer.data,cancer.target,test_size=0.25,random_state=0)\n",
    "\n",
    "scaler = StandardScaler()\n",
    "scaler.fit(X_train)\n",
    "X_train_scaled = scaler.transform(X_train)\n",
    "X_test_scaled = scaler.transform(X_test)\n",
    "\n",
    "#numpy to torch: \n",
    "X_test_scaled = torch.from_numpy(X_test_scaled).float()\n",
    "y_test = torch.from_numpy(y_test).float()\n",
    "\n",
    "#prepare dataset for dataloader:\n",
    "trainset = data_utils.TensorDataset(torch.from_numpy(X_train_scaled).float(),\n",
    "                                 torch.from_numpy(y_train).float())\n",
    "\n",
    "#create dataloader: \n",
    "trainloader = data_utils.DataLoader(trainset, batch_size=4, shuffle=True)\n"
   ]
  },
  {
   "cell_type": "code",
   "execution_count": 2,
   "metadata": {},
   "outputs": [
    {
     "name": "stdout",
     "output_type": "stream",
     "text": [
      "TorchNeuralNetwork(\n",
      "  (linear_stack): Sequential(\n",
      "    (0): Linear(in_features=30, out_features=50, bias=True)\n",
      "    (1): ReLU()\n",
      "    (2): Linear(in_features=50, out_features=1, bias=True)\n",
      "    (3): Sigmoid()\n",
      "  )\n",
      ")\n"
     ]
    }
   ],
   "source": [
    "class TorchNeuralNetwork(nn.Module):\n",
    "    def __init__(self):\n",
    "        super(TorchNeuralNetwork, self).__init__()\n",
    "        \n",
    "        self.linear_stack = nn.Sequential(\n",
    "            nn.Linear(30, 50),\n",
    "            nn.ReLU(),\n",
    "            nn.Linear(50, 1),\n",
    "            nn.Sigmoid(),\n",
    "        )\n",
    "    def forward(self, x):\n",
    "        logits = self.linear_stack(x)\n",
    "        return logits\n",
    "    \n",
    "    \n",
    "net = TorchNeuralNetwork()\n",
    "print(net)"
   ]
  },
  {
   "cell_type": "code",
   "execution_count": 3,
   "metadata": {},
   "outputs": [],
   "source": [
    "\n",
    "epochs = 20\n",
    "criterion = nn.BCELoss()\n",
    "optimizer = optim.SGD(net.parameters(), lr=0.1)#, momentum=0.9)\n",
    "\n",
    "\n",
    "for epoch in range(epochs): \n",
    "    for i, data in enumerate(trainloader, 0):\n",
    "        \n",
    "        inputs, labels = data\n",
    "        #unsqueeze to broadcast: \n",
    "        labels = labels.unsqueeze(-1)\n",
    "        # zero gradients to avoid accum.grads\n",
    "        optimizer.zero_grad()\n",
    "\n",
    "        # forward -> backward -> optimize\n",
    "        outputs = net(inputs)\n",
    "        loss = criterion(outputs, labels)\n",
    "        loss.backward()\n",
    "        optimizer.step()\n"
   ]
  },
  {
   "cell_type": "markdown",
   "metadata": {},
   "source": [
    "### Testing accuracy: "
   ]
  },
  {
   "cell_type": "code",
   "execution_count": 4,
   "metadata": {},
   "outputs": [
    {
     "data": {
      "text/plain": [
       "0.958041958041958"
      ]
     },
     "execution_count": 4,
     "metadata": {},
     "output_type": "execute_result"
    }
   ],
   "source": [
    "\n",
    "def accuracy(X_test, y_test):\n",
    "    \n",
    "    y_hat = net.forward(X_test)\n",
    "    prediction_val = [1 if x > 0.5 else 0 for x in y_hat.data.numpy()]\n",
    "    correct_val = (prediction_val == y_test.numpy()).sum()\n",
    "    return correct_val/len(y_test)\n",
    "\n",
    "accuracy(X_test_scaled, y_test)"
   ]
  },
  {
   "cell_type": "code",
   "execution_count": null,
   "metadata": {},
   "outputs": [],
   "source": []
  }
 ],
 "metadata": {
  "interpreter": {
   "hash": "832cabf0b499e02e4a9db3c43ba66016f6fa525bd81e8a60b86973ed3d4bb657"
  },
  "kernelspec": {
   "display_name": "Python 3.7.11 64-bit ('fysstk_env': conda)",
   "language": "python",
   "name": "python3"
  },
  "language_info": {
   "codemirror_mode": {
    "name": "ipython",
    "version": 3
   },
   "file_extension": ".py",
   "mimetype": "text/x-python",
   "name": "python",
   "nbconvert_exporter": "python",
   "pygments_lexer": "ipython3",
   "version": "3.7.11"
  },
  "orig_nbformat": 4
 },
 "nbformat": 4,
 "nbformat_minor": 2
}
