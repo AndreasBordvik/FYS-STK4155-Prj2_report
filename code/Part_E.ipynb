{
 "cells": [
  {
   "cell_type": "code",
   "execution_count": 1,
   "metadata": {},
   "outputs": [],
   "source": [
    "from sklearn.datasets import load_breast_cancer\n",
    "from sklearn.model_selection import train_test_split\n",
    "import matplotlib.pyplot as plt\n",
    "from sklearn.preprocessing import StandardScaler\n",
    "\n",
    "import numpy as np \n",
    "%matplotlib inline"
   ]
  },
  {
   "cell_type": "code",
   "execution_count": 2,
   "metadata": {},
   "outputs": [],
   "source": [
    "\n",
    "class NumpyClassifier():\n",
    "    \"\"\"Common methods to \"\"\"\n",
    "\n",
    "    def accuracy(self, X_test, y_test, **kwargs):\n",
    "        pred = self.predict(X_test, **kwargs)\n",
    "        if len(pred.shape) > 1:\n",
    "            pred = pred[:, 0]\n",
    "        return sum(pred == y_test) / len(pred)\n",
    "\n",
    "\n",
    "\n",
    "def logistic(x):\n",
    "    return 1 / (1 + np.exp(-x))\n",
    "\n",
    "\n",
    "class NumpyLogReg(NumpyClassifier):\n",
    "    \n",
    "    def add_bias(self,X):\n",
    "        return np.c_[np.ones(X.shape[0])*(-1), X]\n",
    "\n",
    "    def fit(self, X_train, t_train, eta,c, epochs=100):\n",
    "        \"\"\"X_train is a Nxm matrix, N data points, m features\n",
    "        t_train are the targets values for training data\"\"\"\n",
    "        (k, m) = X_train.shape\n",
    "        \n",
    "      \n",
    "        X_train = self.add_bias(X_train)\n",
    "        self.beta =  np.zeros(m + 1)\n",
    "  \n",
    "        for e in range(epochs):\n",
    "            # new beta(update):\n",
    "            gradient = (-X_train.T @ (t_train - self.forward(X_train)))\n",
    "            \n",
    "            #update = eta / k * X_train.T @ (self.forward(X_train) - t_train)\n",
    "\n",
    "            self.beta = ((self.beta- gradient)/k)*eta\n",
    "\n",
    "    def forward(self, X):\n",
    "        return logistic(X @ self.beta)\n",
    "\n",
    "    def predict(self, x, threshold=0.5):\n",
    "        z = self.add_bias(x)\n",
    "        score = self.forward(z)\n",
    "        # score = z @ self.theta\n",
    "        return (score > threshold).astype('int')\n"
   ]
  },
  {
   "cell_type": "code",
   "execution_count": 3,
   "metadata": {},
   "outputs": [
    {
     "data": {
      "text/plain": [
       "Text(0, 0.5, 'Accuracy')"
      ]
     },
     "execution_count": 3,
     "metadata": {},
     "output_type": "execute_result"
    },
    {
     "data": {
      "image/png": "[encoded data removed]",
      "text/plain": [
       "<Figure size 432x288 with 1 Axes>"
      ]
     },
     "metadata": {
      "needs_background": "light"
     },
     "output_type": "display_data"
    }
   ],
   "source": [
    "cancer = load_breast_cancer()\n",
    "\n",
    "X_train, X_test, y_train, y_test = train_test_split(cancer.data,cancer.target,test_size=0.2,random_state=0)\n",
    "\n",
    "scaler = StandardScaler()\n",
    "scaler.fit(X_train)\n",
    "X_train_scaled = scaler.transform(X_train)\n",
    "X_test_scaled = scaler.transform(X_test)\n",
    "\n",
    "eta_list = np.linspace(0.001,0.3,20)\n",
    "acu_scores = np.zeros(len(eta_list))\n",
    "\n",
    "cntr = 0\n",
    "for eta in eta_list:\n",
    "    logreg = NumpyLogReg()\n",
    "    logreg.fit(X_train = X_train_scaled, t_train = y_train, eta = eta, c= 0.2)#, c = 0.8)\n",
    "    score = acu_scores[cntr] = logreg.accuracy(X_test_scaled, y_test)\n",
    "    # print(f\"eta: {eta}, score: {score}\")\n",
    "    cntr += 1 \n",
    "    \n",
    "    \n",
    "plt.plot(eta_list, acu_scores)\n",
    "plt.xlabel(\"Eta\")\n",
    "plt.ylabel(\"Accuracy\")"
   ]
  },
  {
   "cell_type": "code",
   "execution_count": 12,
   "metadata": {},
   "outputs": [
    {
     "data": {
      "text/plain": [
       "0.9649122807017544"
      ]
     },
     "execution_count": 12,
     "metadata": {},
     "output_type": "execute_result"
    }
   ],
   "source": [
    "from sklearn.linear_model import LogisticRegression\n",
    "\n",
    "def sci_kit_test_acu(X_train, X_test, y_train, y_test):\n",
    "    logreg = LogisticRegression(penalty=\"l2\", C = 0.2)\n",
    "    logreg.fit(X_train, y_train)\n",
    "    y_pred = logreg.predict(X_test)\n",
    "    \n",
    "\n",
    "    return sum(y_pred == y_test) / len(y_pred)\n",
    "\n",
    "sci_kit_test_acu(X_train_scaled, X_test_scaled, y_train, y_test)\n",
    "\n"
   ]
  },
  {
   "cell_type": "code",
   "execution_count": null,
   "metadata": {},
   "outputs": [],
   "source": []
  }
 ],
 "metadata": {
  "interpreter": {
   "hash": "20551ddceb59dc51fa628b42bb2a7289171df926f90359af355cededb82457a3"
  },
  "kernelspec": {
   "display_name": "Python 3.9.7 64-bit ('in5520': conda)",
   "name": "python3"
  },
  "language_info": {
   "codemirror_mode": {
    "name": "ipython",
    "version": 3
   },
   "file_extension": ".py",
   "mimetype": "text/x-python",
   "name": "python",
   "nbconvert_exporter": "python",
   "pygments_lexer": "ipython3",
   "version": "3.9.7"
  },
  "orig_nbformat": 4
 },
 "nbformat": 4,
 "nbformat_minor": 2
}
