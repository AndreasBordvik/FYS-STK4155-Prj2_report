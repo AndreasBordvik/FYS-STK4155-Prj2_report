{
 "cells": [
  {
   "cell_type": "code",
   "execution_count": 1,
   "metadata": {},
   "outputs": [],
   "source": [
    "from sklearn.datasets import load_breast_cancer\n",
    "from sklearn.model_selection import train_test_split\n",
    "import matplotlib.pyplot as plt\n",
    "from sklearn.preprocessing import StandardScaler\n",
    "\n",
    "import numpy as np \n",
    "%matplotlib inline"
   ]
  },
  {
   "cell_type": "code",
   "execution_count": 2,
   "metadata": {},
   "outputs": [],
   "source": [
    "from scipy.special import expit\n",
    "class NumpyClassifier():\n",
    "    \"\"\"Common methods to \"\"\"\n",
    "\n",
    "    def accuracy(self, X_test, y_test, **kwargs):\n",
    "        pred = self.predict(X_test, **kwargs)\n",
    "        if len(pred.shape) > 1:\n",
    "            pred = pred[:, 0]\n",
    "        return sum(pred == y_test) / len(pred)\n",
    "\n",
    "\n",
    "class NumpyLogReg(NumpyClassifier):\n",
    "    def __init__(self, eta = None, lmb = None) -> None:\n",
    "        super().__init__()\n",
    "        self.eta = eta\n",
    "        self.lmb = lmb\n",
    "\n",
    "\n",
    "\n",
    "    def fit(self, X_train, t_train,batch_size, epochs, solver = \"SGD\"):\n",
    "        \"\"\"X_train is a Nxm matrix, N data points, m features\n",
    "        t_train are the targets values for training data\"\"\"\n",
    "        m = X_train.shape[1]\n",
    "        n_batches = np.ceil(X_train.shape[0] / batch_size)\n",
    "\n",
    "      \n",
    "        self.beta =  np.zeros(m)\n",
    "        \n",
    "        indicies = np.arange(X_train.shape[0])\n",
    "        if solver == \"SGD\":\n",
    "            #Stochastic Gradient Descent:\n",
    "            print(\"Solving with SGD\")\n",
    "\n",
    "            for epoch in range(epochs):\n",
    "                np.random.shuffle(indicies)\n",
    "                minibatch_list = np.array_split(indicies, n_batches)\n",
    "                \n",
    "                for minibatch in (minibatch_list):\n",
    "                    xi = np.take(X_train, minibatch,axis=0)\n",
    "                    yi = np.take(t_train, minibatch,axis=0)                \n",
    "                    p = self.forward(xi)\n",
    "                    gradient = -xi.T @ (yi-p)\n",
    "                    \n",
    "                    #beta punishing \n",
    "                    self.beta += self.beta*self.lmb**2\n",
    "                    #updating betas: \n",
    "                    self.beta =self.beta -self.eta*gradient\n",
    "                    \n",
    "        elif solver == \"NRM\":\n",
    "            #Newton Raphson´s Method:\n",
    "            print(\"Solving with NRM\")\n",
    "            for epoch in range(epochs):\n",
    "                self.newton_raphson(X_train, t_train)\n",
    "                    \n",
    "        \n",
    "        else:\n",
    "            print(\"Choose SGM og NRM as solver\")   \n",
    "           \n",
    "\n",
    "    def forward(self, X):\n",
    "        return 1/(1+np.exp(-X @ self.beta))\n",
    "    \n",
    "    def newton_raphson(self, X,y):\n",
    "        p = self.forward(X)\n",
    "        p_1 = 1-p\n",
    "        score = -X.T @ (y-p)\n",
    "        \n",
    "        W = np.zeros(shape=(len(y),len(y)))\n",
    "        np.fill_diagonal(W,(p*p_1))\n",
    "        \n",
    "        hessian = X.T@W@X\n",
    "        update = np.linalg.pinv(hessian) @ score\n",
    "        \n",
    "        self.beta -= update\n",
    "\n",
    "        \n",
    "        \n",
    "    def predict(self, x, threshold=0.5):\n",
    "        #z = self.add_bias(x)\n",
    "        score = self.forward(x)\n",
    "        # score = z @ self.theta\n",
    "        return (score > threshold).astype('int')\n"
   ]
  },
  {
   "cell_type": "code",
   "execution_count": 3,
   "metadata": {},
   "outputs": [],
   "source": [
    "cancer = load_breast_cancer()\n",
    "\n",
    "X_train, X_test, y_train, y_test = train_test_split(cancer.data,cancer.target,test_size=0.25,random_state=4155)\n",
    "scaler = StandardScaler()\n",
    "scaler.fit(X_train)\n",
    "X_train_scaled = scaler.transform(X_train)\n",
    "X_test_scaled = scaler.transform(X_test)\n",
    "\n",
    "\n",
    "\n"
   ]
  },
  {
   "cell_type": "code",
   "execution_count": 4,
   "metadata": {},
   "outputs": [
    {
     "name": "stdout",
     "output_type": "stream",
     "text": [
      "Solving with SGD\n",
      "Solving with SGD\n",
      "Solving with SGD\n",
      "Solving with SGD\n",
      "Solving with SGD\n",
      "Solving with SGD\n",
      "Solving with SGD\n",
      "Solving with SGD\n",
      "Solving with SGD\n",
      "Solving with SGD\n",
      "Solving with SGD\n",
      "Solving with SGD\n",
      "Solving with SGD\n",
      "Solving with SGD\n",
      "Solving with SGD\n",
      "Solving with SGD\n",
      "Solving with SGD\n",
      "Solving with SGD\n",
      "Solving with SGD\n",
      "Solving with SGD\n"
     ]
    },
    {
     "data": {
      "text/plain": [
       "<matplotlib.legend.Legend at 0x1d6a0c6e100>"
      ]
     },
     "execution_count": 4,
     "metadata": {},
     "output_type": "execute_result"
    },
    {
     "data": {
      "image/png": "[encoded data removed]",
      "text/plain": [
       "<Figure size 432x288 with 1 Axes>"
      ]
     },
     "metadata": {
      "needs_background": "light"
     },
     "output_type": "display_data"
    }
   ],
   "source": [
    "\n",
    "eta_list = np.linspace(0.001,0.1,20)\n",
    "acu_scores = np.zeros(len(eta_list))\n",
    " \n",
    "cntr = 0\n",
    "for eta in eta_list:\n",
    "    logreg_SGD = NumpyLogReg(eta = eta, lmb = 0.1)\n",
    "    logreg_SGD.fit(X_train_scaled,y_train,batch_size= 5, epochs=1, solver = \"SGD\")\n",
    "    score = acu_scores[cntr] = logreg_SGD.accuracy(X_test_scaled, y_test)\n",
    "    cntr += 1 \n",
    "    \n",
    "    \n",
    "plt.plot(eta_list, acu_scores, label = \"LogReg with SGD\")\n",
    "plt.xlabel(\"Eta\")\n",
    "plt.ylabel(\"Accuracy\")\n",
    "plt.legend()"
   ]
  },
  {
   "cell_type": "code",
   "execution_count": 5,
   "metadata": {},
   "outputs": [
    {
     "name": "stdout",
     "output_type": "stream",
     "text": [
      "Solving with NRM\n"
     ]
    },
    {
     "data": {
      "text/plain": [
       "0.951048951048951"
      ]
     },
     "execution_count": 5,
     "metadata": {},
     "output_type": "execute_result"
    }
   ],
   "source": [
    "logreg_NRM = NumpyLogReg()\n",
    "logreg_NRM.fit(X_train_scaled,y_train,batch_size= 5, epochs=1, solver = \"NRM\")\n",
    "logreg_NRM.accuracy(X_test_scaled, y_test)"
   ]
  },
  {
   "cell_type": "code",
   "execution_count": 6,
   "metadata": {},
   "outputs": [
    {
     "data": {
      "text/plain": [
       "0.9790209790209791"
      ]
     },
     "execution_count": 6,
     "metadata": {},
     "output_type": "execute_result"
    }
   ],
   "source": [
    "from sklearn.linear_model import LogisticRegression\n",
    "\n",
    "def sci_kit_test_acu(X_train, X_test, y_train, y_test):\n",
    "    logreg = LogisticRegression(penalty=\"l2\", C = 0.2)\n",
    "    logreg.fit(X_train, y_train)\n",
    "    y_pred = logreg.predict(X_test)\n",
    "    \n",
    "\n",
    "    return sum(y_pred == y_test) / len(y_pred)\n",
    "\n",
    "sci_kit_test_acu(X_train_scaled, X_test_scaled, y_train, y_test)\n",
    "\n"
   ]
  },
  {
   "cell_type": "markdown",
   "metadata": {},
   "source": [
    "### Compare neural network classification results with Logistic regression results:\n"
   ]
  },
  {
   "cell_type": "code",
   "execution_count": 7,
   "metadata": {},
   "outputs": [
    {
     "name": "stdout",
     "output_type": "stream",
     "text": [
      "Root directory: c:\\Users\\andre\\Dropbox\\FYS-STK4155_projects\\FYS-STK4155 - Project2\\FYS-STK4155-Prj2_report\\code\n"
     ]
    }
   ],
   "source": [
    "import numpy as np\n",
    "import pandas as pd\n",
    "from imageio import imread\n",
    "import matplotlib.pyplot as plt\n",
    "from matplotlib import cm\n",
    "import seaborn as sns\n",
    "import os\n",
    "from common import *\n",
    "from models import NeuralNetwork, Layer, Fixed_layer, binary_classifier, relu, sigmoid\n",
    "\n",
    "print(f\"Root directory: {os.getcwd()}\")\n",
    "plt.rcParams.update({\n",
    "    \"text.usetex\": True,\n",
    "    \"font.family\": \"serif\",\n",
    "    \"font.serif\": [\"Palatino\"],\n",
    "    \"font.size\": 10,\n",
    "})\n",
    "\n",
    "#%matplotlib"
   ]
  },
  {
   "cell_type": "code",
   "execution_count": 8,
   "metadata": {},
   "outputs": [
    {
     "name": "stdout",
     "output_type": "stream",
     "text": [
      "0.951048951048951\n"
     ]
    }
   ],
   "source": [
    "# Hyper parameters\n",
    "lr = 0.2\n",
    "epochs = 200\n",
    "batch_size = 10\n",
    "hidden1_neurons = 50\n",
    "input_dim = X_train.shape[1]\n",
    "\n",
    "# Model architecture\n",
    "hidden1 = Layer(input_dim, hidden1_neurons, activation=\"sigmoid\", name=\"hidden1\")\n",
    "hidden2 = Layer(hidden1.neurons, hidden1.neurons*2, activation=\"sigmoid\", name=\"hidden2\")\n",
    "hidden3 = Layer(hidden2.neurons, hidden2.neurons//2, activation=\"sigmoid\", name=\"hidden3\")\n",
    "output = Layer(hidden3.neurons, nbf_neurons=1, activation=\"sigmoid\" , name=\"output\")\n",
    "\n",
    "model = NeuralNetwork(learning_rate=lr, network_type=\"classification\")\n",
    "model.add(hidden1)\n",
    "model.add(output)\n",
    "\n",
    "#TODO: Had to reshape u_train(?)\n",
    "model.fit(X_train_scaled, y_train.reshape(-1,1), batch_size=batch_size, epochs=epochs)\n",
    "y_hat = model.predict(X_test_scaled)\n",
    "y_hat = y_hat.flatten()\n",
    "\n",
    "def accuracy(y_hat, y_true):\n",
    "    return np.sum(y_hat == y_true) / y_true.shape[0]\n",
    "\n",
    "print(accuracy(y_hat,y_test))"
   ]
  },
  {
   "cell_type": "markdown",
   "metadata": {},
   "source": [
    "# With regularization"
   ]
  },
  {
   "cell_type": "code",
   "execution_count": 9,
   "metadata": {},
   "outputs": [
    {
     "name": "stdout",
     "output_type": "stream",
     "text": [
      "0.965034965034965\n"
     ]
    }
   ],
   "source": [
    "# Hyper parameters\n",
    "lmb = 0.0001\n",
    "\n",
    "# Model architecture\n",
    "hidden1 = Layer(input_dim, hidden1_neurons, activation=\"sigmoid\", name=\"hidden1\")\n",
    "hidden2 = Layer(hidden1.neurons, hidden1.neurons*2, activation=\"sigmoid\", name=\"hidden2\")\n",
    "hidden3 = Layer(hidden2.neurons, hidden2.neurons//2, activation=\"sigmoid\", name=\"hidden3\")\n",
    "output = Layer(hidden3.neurons, nbf_neurons=1, activation=\"sigmoid\" , name=\"output\")\n",
    "\n",
    "model = NeuralNetwork(learning_rate=lr , network_type=\"classification\", lmb=lmb)\n",
    "model.add(hidden1)\n",
    "model.add(output)\n",
    "\n",
    "#TODO: Had to reshape u_train(?)\n",
    "model.fit(X_train_scaled, y_train.reshape(-1,1), batch_size=batch_size, epochs=epochs)\n",
    "y_hat = model.predict(X_test_scaled)\n",
    "y_hat = y_hat.flatten()\n",
    "\n",
    "def accuracy(y_hat, y_true):\n",
    "    return np.sum(y_hat == y_true) / y_true.shape[0]\n",
    "\n",
    "print(accuracy(y_hat,y_test))"
   ]
  }
 ],
 "metadata": {
  "interpreter": {
   "hash": "20551ddceb59dc51fa628b42bb2a7289171df926f90359af355cededb82457a3"
  },
  "kernelspec": {
   "display_name": "Python 3.9.7 64-bit ('in5520': conda)",
   "name": "python3"
  },
  "language_info": {
   "codemirror_mode": {
    "name": "ipython",
    "version": 3
   },
   "file_extension": ".py",
   "mimetype": "text/x-python",
   "name": "python",
   "nbconvert_exporter": "python",
   "pygments_lexer": "ipython3",
   "version": "3.8.11"
  },
  "orig_nbformat": 4
 },
 "nbformat": 4,
 "nbformat_minor": 2
}
