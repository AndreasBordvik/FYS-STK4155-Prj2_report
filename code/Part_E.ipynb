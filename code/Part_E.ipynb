{
 "cells": [
  {
   "cell_type": "code",
   "execution_count": null,
   "metadata": {},
   "outputs": [],
   "source": [
    "from sklearn.datasets import load_breast_cancer\n",
    "from sklearn.model_selection import train_test_split\n",
    "import matplotlib.pyplot as plt\n",
    "from sklearn.preprocessing import StandardScaler\n",
    "from common import *\n",
    "from models import LogReg, NeuralNetwork, Layer\n",
    "\n",
    "import seaborn as sns\n",
    "from matplotlib.pyplot import figure\n",
    "\n",
    "import numpy as np \n",
    "%matplotlib inline"
   ]
  },
  {
   "cell_type": "markdown",
   "metadata": {},
   "source": []
  },
  {
   "cell_type": "code",
   "execution_count": null,
   "metadata": {},
   "outputs": [],
   "source": [
    "cancer = load_breast_cancer()\n",
    "\n",
    "X_train, X_test, y_train, y_test = train_test_split(cancer.data,cancer.target,test_size=0.25,random_state=4155)\n",
    "scaler = StandardScaler()\n",
    "scaler.fit(X_train)\n",
    "X_train_scaled = scaler.transform(X_train)\n",
    "X_test_scaled = scaler.transform(X_test)"
   ]
  },
  {
   "cell_type": "code",
   "execution_count": null,
   "metadata": {},
   "outputs": [],
   "source": [
    "\n",
    "eta_list = np.linspace(0.0001,0.1,10)\n",
    "lmb_list = np.linspace(0,.9,10)\n",
    "acu_scores = np.zeros(len(eta_list))\n",
    " \n",
    "heatmap_mtrx = np.zeros(shape=(len(eta_list), len(lmb_list)))\n",
    "\n",
    "\n",
    "for eta in range(len(eta_list)):\n",
    "    for lmb in range(len(lmb_list)):\n",
    "        logreg_SGD = LogReg(eta = eta_list[eta], lmb = lmb_list[lmb])\n",
    "        logreg_SGD.fit(X_train_scaled,y_train,batch_size= 5, epochs=10, solver = \"SGD\")\n",
    "    \n",
    "        heatmap_mtrx[eta,lmb] =  logreg_SGD.accuracy(X_test_scaled, y_test)\n",
    "\n",
    "print(f\"last matr elem: {heatmap_mtrx[-1,-1]}\")\n",
    "figure(figsize=(12,10))\n",
    "eta_list = np.around(eta_list, decimals=4)\n",
    "lmb_list = np.around(lmb_list, decimals=4)\n",
    "gridsearch = sns.heatmap(heatmap_mtrx,annot=True, xticklabels= eta_list, yticklabels= lmb_list)\n",
    "gridsearch.invert_yaxis()\n",
    "gridsearch.set_xticklabels(gridsearch.get_xticklabels(),rotation = 80)\n",
    "\n",
    "plt.title(\"Eta, Lambda grid search\")\n",
    "plt.xlabel(\"Eta\")\n",
    "plt.ylabel(\"Lambda\")\n",
    "\n"
   ]
  },
  {
   "cell_type": "code",
   "execution_count": null,
   "metadata": {},
   "outputs": [],
   "source": [
    "logreg_NRM = NumpyLogReg()\n",
    "logreg_NRM.fit(X_train_scaled,y_train,batch_size= 5, epochs=1, solver = \"NRM\")\n",
    "logreg_NRM.accuracy(X_test_scaled, y_test)"
   ]
  },
  {
   "cell_type": "code",
   "execution_count": null,
   "metadata": {},
   "outputs": [],
   "source": [
    "from sklearn.linear_model import LogisticRegression\n",
    "\n",
    "def sci_kit_test_acu(X_train, X_test, y_train, y_test):\n",
    "    logreg = LogisticRegression(penalty=\"l2\", C = 0.2)\n",
    "    logreg.fit(X_train, y_train)\n",
    "    y_pred = logreg.predict(X_test)\n",
    "    \n",
    "\n",
    "    return sum(y_pred == y_test) / len(y_pred)\n",
    "\n",
    "sci_kit_test_acu(X_train_scaled, X_test_scaled, y_train, y_test)\n",
    "\n"
   ]
  },
  {
   "cell_type": "markdown",
   "metadata": {},
   "source": [
    "### Compare neural network classification results with Logistic regression results:\n"
   ]
  },
  {
   "cell_type": "code",
   "execution_count": null,
   "metadata": {},
   "outputs": [],
   "source": [
    "# Hyper parameters\n",
    "lr = 0.2\n",
    "epochs = 200\n",
    "batch_size = 10\n",
    "hidden1_neurons = 50\n",
    "input_dim = X_train.shape[1]\n",
    "\n",
    "# Model architecture\n",
    "hidden1 = Layer(input_dim, hidden1_neurons, activation=\"sigmoid\", name=\"hidden1\")\n",
    "hidden2 = Layer(hidden1.neurons, hidden1.neurons*2, activation=\"sigmoid\", name=\"hidden2\")\n",
    "hidden3 = Layer(hidden2.neurons, hidden2.neurons//2, activation=\"sigmoid\", name=\"hidden3\")\n",
    "output = Layer(hidden3.neurons, nbf_neurons=1, activation=\"sigmoid\" , name=\"output\")\n",
    "\n",
    "model = NeuralNetwork(learning_rate=lr, network_type=\"classification\")\n",
    "model.add(hidden1)\n",
    "model.add(output)\n",
    "\n",
    "model.fit(X_train_scaled, y_train.reshape(-1,1), batch_size=batch_size, epochs=epochs)\n",
    "y_hat = model.predict(X_test_scaled)\n",
    "y_hat = y_hat.flatten()\n",
    "\n",
    "def accuracy(y_hat, y_true):\n",
    "    return np.sum(y_hat == y_true) / y_true.shape[0]\n",
    "\n",
    "print(accuracy(y_hat,y_test))"
   ]
  },
  {
   "cell_type": "markdown",
   "metadata": {},
   "source": [
    "# With regularization"
   ]
  },
  {
   "cell_type": "code",
   "execution_count": null,
   "metadata": {},
   "outputs": [],
   "source": [
    "# Hyper parameters\n",
    "lmb = 0.0001\n",
    "\n",
    "# Model architecture\n",
    "hidden1 = Layer(input_dim, hidden1_neurons, activation=\"sigmoid\", name=\"hidden1\")\n",
    "hidden2 = Layer(hidden1.neurons, hidden1.neurons*2, activation=\"sigmoid\", name=\"hidden2\")\n",
    "hidden3 = Layer(hidden2.neurons, hidden2.neurons//2, activation=\"sigmoid\", name=\"hidden3\")\n",
    "output = Layer(hidden3.neurons, nbf_neurons=1, activation=\"sigmoid\" , name=\"output\")\n",
    "\n",
    "model = NeuralNetwork(learning_rate=lr , network_type=\"classification\", lmb=lmb)\n",
    "model.add(hidden1)\n",
    "model.add(output)\n",
    "\n",
    "#TODO: Had to reshape u_train(?)\n",
    "model.fit(X_train_scaled, y_train.reshape(-1,1), batch_size=batch_size, epochs=epochs)\n",
    "y_hat = model.predict(X_test_scaled)\n",
    "y_hat = y_hat.flatten()\n",
    "\n",
    "def accuracy(y_hat, y_true):\n",
    "    return np.sum(y_hat == y_true) / y_true.shape[0]\n",
    "\n",
    "print(accuracy(y_hat,y_test))"
   ]
  },
  {
   "cell_type": "code",
   "execution_count": null,
   "metadata": {},
   "outputs": [],
   "source": []
  }
 ],
 "metadata": {
  "interpreter": {
   "hash": "20551ddceb59dc51fa628b42bb2a7289171df926f90359af355cededb82457a3"
  },
  "kernelspec": {
   "display_name": "Python 3.9.7 64-bit ('in5520': conda)",
   "name": "python3"
  },
  "language_info": {
   "codemirror_mode": {
    "name": "ipython",
    "version": 3
   },
   "file_extension": ".py",
   "mimetype": "text/x-python",
   "name": "python",
   "nbconvert_exporter": "python",
   "pygments_lexer": "ipython3",
   "version": "3.8.11"
  },
  "orig_nbformat": 4
 },
 "nbformat": 4,
 "nbformat_minor": 2
}
